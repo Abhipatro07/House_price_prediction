{
 "cells": [
  {
   "cell_type": "markdown",
   "id": "383f960e",
   "metadata": {},
   "source": [
    "Import Libraries"
   ]
  },
  {
   "cell_type": "code",
   "execution_count": 14,
   "id": "e0c496ba",
   "metadata": {},
   "outputs": [],
   "source": [
    "import pandas as pd\n",
    "from sklearn.linear_model import LinearRegression\n",
    "import matplotlib.pyplot as plt"
   ]
  },
  {
   "cell_type": "markdown",
   "id": "8da3e45e",
   "metadata": {},
   "source": [
    "Load Dataset"
   ]
  },
  {
   "cell_type": "code",
   "execution_count": 15,
   "id": "68deb6ab",
   "metadata": {},
   "outputs": [],
   "source": [
    "dataset = pd.read_csv('House_price_prediction.csv')"
   ]
  },
  {
   "cell_type": "markdown",
   "id": "1bf08b31",
   "metadata": {},
   "source": [
    "Load Summaeize"
   ]
  },
  {
   "cell_type": "code",
   "execution_count": 16,
   "id": "0592b59a",
   "metadata": {},
   "outputs": [
    {
     "name": "stdout",
     "output_type": "stream",
     "text": [
      "(4600, 2)\n",
      "<bound method NDFrame.head of       area         price\n",
      "0     1340  3.130000e+05\n",
      "1     3650  2.384000e+06\n",
      "2     1930  3.420000e+05\n",
      "3     2000  4.200000e+05\n",
      "4     1940  5.500000e+05\n",
      "...    ...           ...\n",
      "4595  1510  3.081667e+05\n",
      "4596  1460  5.343333e+05\n",
      "4597  3010  4.169042e+05\n",
      "4598  2090  2.034000e+05\n",
      "4599  1490  2.206000e+05\n",
      "\n",
      "[4600 rows x 2 columns]>\n"
     ]
    }
   ],
   "source": [
    "print(dataset.shape)\n",
    "print(dataset.head)"
   ]
  },
  {
   "cell_type": "markdown",
   "id": "20a7eafd",
   "metadata": {},
   "source": [
    "Visualize the dataset"
   ]
  },
  {
   "cell_type": "code",
   "execution_count": 17,
   "id": "4d0bcfc6",
   "metadata": {},
   "outputs": [
    {
     "data": {
      "text/plain": [
       "<matplotlib.collections.PathCollection at 0x1bf8fc60850>"
      ]
     },
     "execution_count": 17,
     "metadata": {},
     "output_type": "execute_result"
    },
    {
     "data": {
      "image/png": "[encoded data removed]",
      "text/plain": [
       "<Figure size 640x480 with 1 Axes>"
      ]
     },
     "metadata": {},
     "output_type": "display_data"
    }
   ],
   "source": [
    "plt.xlabel('Area')\n",
    "plt.ylabel('Price')\n",
    "plt.scatter(dataset.area,dataset.price,color='red',marker='*')"
   ]
  },
  {
   "cell_type": "markdown",
   "id": "74025bd0",
   "metadata": {},
   "source": [
    "Segregate Dataset into Input X and Otput Y"
   ]
  },
  {
   "cell_type": "code",
   "execution_count": 18,
   "id": "cc8539b1",
   "metadata": {},
   "outputs": [
    {
     "data": {
      "text/html": [
       "<div>\n",
       "<style scoped>\n",
       "    .dataframe tbody tr th:only-of-type {\n",
       "        vertical-align: middle;\n",
       "    }\n",
       "\n",
       "    .dataframe tbody tr th {\n",
       "        vertical-align: top;\n",
       "    }\n",
       "\n",
       "    .dataframe thead th {\n",
       "        text-align: right;\n",
       "    }\n",
       "</style>\n",
       "<table border=\"1\" class=\"dataframe\">\n",
       "  <thead>\n",
       "    <tr style=\"text-align: right;\">\n",
       "      <th></th>\n",
       "      <th>area</th>\n",
       "    </tr>\n",
       "  </thead>\n",
       "  <tbody>\n",
       "    <tr>\n",
       "      <th>0</th>\n",
       "      <td>1340</td>\n",
       "    </tr>\n",
       "    <tr>\n",
       "      <th>1</th>\n",
       "      <td>3650</td>\n",
       "    </tr>\n",
       "    <tr>\n",
       "      <th>2</th>\n",
       "      <td>1930</td>\n",
       "    </tr>\n",
       "    <tr>\n",
       "      <th>3</th>\n",
       "      <td>2000</td>\n",
       "    </tr>\n",
       "    <tr>\n",
       "      <th>4</th>\n",
       "      <td>1940</td>\n",
       "    </tr>\n",
       "    <tr>\n",
       "      <th>...</th>\n",
       "      <td>...</td>\n",
       "    </tr>\n",
       "    <tr>\n",
       "      <th>4595</th>\n",
       "      <td>1510</td>\n",
       "    </tr>\n",
       "    <tr>\n",
       "      <th>4596</th>\n",
       "      <td>1460</td>\n",
       "    </tr>\n",
       "    <tr>\n",
       "      <th>4597</th>\n",
       "      <td>3010</td>\n",
       "    </tr>\n",
       "    <tr>\n",
       "      <th>4598</th>\n",
       "      <td>2090</td>\n",
       "    </tr>\n",
       "    <tr>\n",
       "      <th>4599</th>\n",
       "      <td>1490</td>\n",
       "    </tr>\n",
       "  </tbody>\n",
       "</table>\n",
       "<p>4600 rows × 1 columns</p>\n",
       "</div>"
      ],
      "text/plain": [
       "      area\n",
       "0     1340\n",
       "1     3650\n",
       "2     1930\n",
       "3     2000\n",
       "4     1940\n",
       "...    ...\n",
       "4595  1510\n",
       "4596  1460\n",
       "4597  3010\n",
       "4598  2090\n",
       "4599  1490\n",
       "\n",
       "[4600 rows x 1 columns]"
      ]
     },
     "execution_count": 18,
     "metadata": {},
     "output_type": "execute_result"
    }
   ],
   "source": [
    "X = dataset.drop('price',axis='columns')\n",
    "X"
   ]
  },
  {
   "cell_type": "code",
   "execution_count": 19,
   "id": "0a44b645",
   "metadata": {},
   "outputs": [
    {
     "data": {
      "text/plain": [
       "0       3.130000e+05\n",
       "1       2.384000e+06\n",
       "2       3.420000e+05\n",
       "3       4.200000e+05\n",
       "4       5.500000e+05\n",
       "            ...     \n",
       "4595    3.081667e+05\n",
       "4596    5.343333e+05\n",
       "4597    4.169042e+05\n",
       "4598    2.034000e+05\n",
       "4599    2.206000e+05\n",
       "Name: price, Length: 4600, dtype: float64"
      ]
     },
     "execution_count": 19,
     "metadata": {},
     "output_type": "execute_result"
    }
   ],
   "source": [
    "Y = dataset.price\n",
    "Y"
   ]
  },
  {
   "cell_type": "markdown",
   "id": "e4519656",
   "metadata": {},
   "source": [
    "Traning Dataset using Liear Regression  "
   ]
  },
  {
   "cell_type": "code",
   "execution_count": 20,
   "id": "2a1420ce",
   "metadata": {},
   "outputs": [
    {
     "data": {
      "text/plain": [
       "LinearRegression()"
      ]
     },
     "execution_count": 20,
     "metadata": {},
     "output_type": "execute_result"
    }
   ],
   "source": [
    "model = LinearRegression()\n",
    "model.fit(X,Y)"
   ]
  },
  {
   "cell_type": "markdown",
   "id": "c9493e6a",
   "metadata": {},
   "source": [
    "Predicated Price for Land sq.feet of custom vales"
   ]
  },
  {
   "cell_type": "code",
   "execution_count": 36,
   "id": "9decf8cf",
   "metadata": {},
   "outputs": [
    {
     "name": "stdout",
     "output_type": "stream",
     "text": [
      "[302696.89311438]\n"
     ]
    },
    {
     "name": "stderr",
     "output_type": "stream",
     "text": [
      "D:\\Anaconda\\lib\\site-packages\\sklearn\\base.py:450: UserWarning: X does not have valid feature names, but LinearRegression was fitted with feature names\n",
      "  warnings.warn(\n"
     ]
    }
   ],
   "source": [
    "x=1150\n",
    "LandAreainsqft=[[x]]\n",
    "PredictedmodelResult = model.predict(LandAreainsqft)\n",
    "print(PredictedmodelResult)"
   ]
  },
  {
   "cell_type": "markdown",
   "id": "7933900e",
   "metadata": {},
   "source": [
    "# Let's check is our model Right?"
   ]
  },
  {
   "cell_type": "markdown",
   "id": "a060096a",
   "metadata": {},
   "source": [
    "Theory Calculation"
   ]
  },
  {
   "cell_type": "markdown",
   "id": "4fabe9fa",
   "metadata": {},
   "source": [
    "Y = m*X + b (m is coefficient and b is intercept)"
   ]
  },
  {
   "cell_type": "markdown",
   "id": "d9d9a325",
   "metadata": {},
   "source": [
    "Coefficient - m"
   ]
  },
  {
   "cell_type": "code",
   "execution_count": 37,
   "id": "f0a9e5dc",
   "metadata": {},
   "outputs": [
    {
     "name": "stdout",
     "output_type": "stream",
     "text": [
      "[251.95013106]\n"
     ]
    }
   ],
   "source": [
    "m = model.coef_\n",
    "print(m)"
   ]
  },
  {
   "cell_type": "markdown",
   "id": "bb896c91",
   "metadata": {},
   "source": [
    "intercept - b"
   ]
  },
  {
   "cell_type": "code",
   "execution_count": 38,
   "id": "c1b3bdaa",
   "metadata": {},
   "outputs": [
    {
     "name": "stdout",
     "output_type": "stream",
     "text": [
      "12954.24239630776\n"
     ]
    }
   ],
   "source": [
    "b = model.intercept_\n",
    "print(b)"
   ]
  },
  {
   "cell_type": "markdown",
   "id": "c216fba4",
   "metadata": {},
   "source": [
    "Y = m*x + b"
   ]
  },
  {
   "cell_type": "markdown",
   "id": "dcb9572a",
   "metadata": {},
   "source": [
    "x is independent variable - input - area"
   ]
  },
  {
   "cell_type": "code",
   "execution_count": 39,
   "id": "7d5a6ba8",
   "metadata": {},
   "outputs": [
    {
     "name": "stdout",
     "output_type": "stream",
     "text": [
      "The Price of 1150 Square feet Land is :302696.8931143785\n"
     ]
    }
   ],
   "source": [
    "y = m*x + b\n",
    "print('The Price of {0} Square feet Land is :{1}'.format(x,y[0]))"
   ]
  },
  {
   "cell_type": "code",
   "execution_count": null,
   "id": "cc2828c1",
   "metadata": {},
   "outputs": [],
   "source": []
  }
 ],
 "metadata": {
  "kernelspec": {
   "display_name": "Python 3 (ipykernel)",
   "language": "python",
   "name": "python3"
  },
  "language_info": {
   "codemirror_mode": {
    "name": "ipython",
    "version": 3
   },
   "file_extension": ".py",
   "mimetype": "text/x-python",
   "name": "python",
   "nbconvert_exporter": "python",
   "pygments_lexer": "ipython3",
   "version": "3.9.13"
  }
 },
 "nbformat": 4,
 "nbformat_minor": 5
}
